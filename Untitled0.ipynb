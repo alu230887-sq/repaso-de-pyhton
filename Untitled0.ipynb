{
  "nbformat": 4,
  "nbformat_minor": 0,
  "metadata": {
    "colab": {
      "provenance": [],
      "authorship_tag": "ABX9TyPVE45bcuA4IdcN9mywoOkL",
      "include_colab_link": true
    },
    "kernelspec": {
      "name": "python3",
      "display_name": "Python 3"
    },
    "language_info": {
      "name": "python"
    }
  },
  "cells": [
    {
      "cell_type": "markdown",
      "metadata": {
        "id": "view-in-github",
        "colab_type": "text"
      },
      "source": [
        "<a href=\"https://colab.research.google.com/github/alu230887-sq/repaso-de-pyhton/blob/main/Untitled0.ipynb\" target=\"_parent\"><img src=\"https://colab.research.google.com/assets/colab-badge.svg\" alt=\"Open In Colab\"/></a>"
      ]
    },
    {
      "cell_type": "markdown",
      "source": [
        "1.   realizar un programa en phton que te permita capturar 2 numeros enteros e imprimir la suma, la resta, la multiplicacion  y la divicion de ambos.\n",
        "2. realizar un programa de pyhton  mediante el cual calculas el total\n",
        " de caracteres que tiene un nombre capturado den el teclado\n",
        "3. realizar un programa en python los 7 dias de la semana\n",
        "\n",
        "\n",
        "\n",
        "\n",
        "\n",
        "\n",
        "\n"
      ],
      "metadata": {
        "id": "v_qKCecD5aky"
      }
    },
    {
      "cell_type": "code",
      "execution_count": 33,
      "metadata": {
        "colab": {
          "base_uri": "https://localhost:8080/"
        },
        "id": "mOK2wvNB5Vf1",
        "outputId": "f2a1b612-fb55-48f0-8b1a-7eb044db997f"
      },
      "outputs": [
        {
          "output_type": "stream",
          "name": "stdout",
          "text": [
            "captura el primer digito2\n",
            "captura segundo digito3\n",
            "la suma es \n",
            "5\n",
            "la resta es \n",
            "-1\n",
            "la multiplicacion es \n",
            "6\n",
            "la divicion es \n",
            "0.6666666666666666\n"
          ]
        }
      ],
      "source": [
        "\n",
        "nom=int(input(\"captura el primer digito\"))\n",
        "nom2=int(input(\"captura segundo digito\"))\n",
        "print(\"la suma es \")\n",
        "print(nom+nom2)\n",
        "print(\"la resta es \")\n",
        "print(nom-nom2)\n",
        "print(\"la multiplicacion es \")\n",
        "print(nom*nom2)\n",
        "print(\"la divicion es \")\n",
        "print(nom/nom2)\n"
      ]
    },
    {
      "cell_type": "code",
      "source": [
        "nom=(input(\"captura tu nombre\"))\n",
        "total=len(nom)\n",
        "print (\" total de caracteres\")\n",
        "print(total)"
      ],
      "metadata": {
        "colab": {
          "base_uri": "https://localhost:8080/"
        },
        "id": "hAoj6rQnCW3v",
        "outputId": "1c3d8b61-ba54-4c96-a195-bb9e51c9bdbe"
      },
      "execution_count": 34,
      "outputs": [
        {
          "output_type": "stream",
          "name": "stdout",
          "text": [
            "captura el primer digitoluna\n",
            " total de caracteres\n",
            "4\n"
          ]
        }
      ]
    },
    {
      "cell_type": "code",
      "source": [
        "semana = [\"lunes\",\"martes\", \"miercoles\", \"jueves\", \"viernes\", \"sabado\", \"domingo\"]\n",
        "for dia in semana:\n",
        "  print(dia)"
      ],
      "metadata": {
        "colab": {
          "base_uri": "https://localhost:8080/"
        },
        "id": "7sgRLOU0CXOG",
        "outputId": "96b6440c-6219-4c80-dd33-e80b59d2b3c1"
      },
      "execution_count": 37,
      "outputs": [
        {
          "output_type": "stream",
          "name": "stdout",
          "text": [
            "lunes\n",
            "martes\n",
            "miercoles\n",
            "jueves\n",
            "viernes\n",
            "sabado\n",
            "domingo\n"
          ]
        }
      ]
    }
  ]
}