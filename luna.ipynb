{
  "nbformat": 4,
  "nbformat_minor": 0,
  "metadata": {
    "colab": {
      "provenance": [],
      "authorship_tag": "ABX9TyPO7Yfdd0tXmhoY7jBZzO/v",
      "include_colab_link": true
    },
    "kernelspec": {
      "name": "python3",
      "display_name": "Python 3"
    },
    "language_info": {
      "name": "python"
    }
  },
  "cells": [
    {
      "cell_type": "markdown",
      "metadata": {
        "id": "view-in-github",
        "colab_type": "text"
      },
      "source": [
        "<a href=\"https://colab.research.google.com/github/alu230887-sq/repaso-de-pyhton/blob/main/luna.ipynb\" target=\"_parent\"><img src=\"https://colab.research.google.com/assets/colab-badge.svg\" alt=\"Open In Colab\"/></a>"
      ]
    },
    {
      "cell_type": "markdown",
      "source": [
        "Programa 1 en pyhton pra imprimir mi nombre con hola mundo"
      ],
      "metadata": {
        "id": "YMSM7cJ-1MWX"
      }
    },
    {
      "cell_type": "code",
      "source": [
        "print (\"hola mundo\")\n",
        "nombre=(input(\"captura tu nombre\"))\n",
        "\n",
        "\n",
        "print(nombre)"
      ],
      "metadata": {
        "colab": {
          "base_uri": "https://localhost:8080/"
        },
        "id": "46kpUNQc1M4w",
        "outputId": "ce9b3e89-b5ac-4f42-8a96-177845b25d3f"
      },
      "execution_count": 4,
      "outputs": [
        {
          "output_type": "stream",
          "name": "stdout",
          "text": [
            "hola mundo\n",
            "captura tu nombreluna\n",
            "luna\n"
          ]
        }
      ]
    },
    {
      "cell_type": "markdown",
      "source": [
        "Programa 2 capturar tu nombre , paterno y materno e imprimirlo en pantalla\n",
        "\n",
        "\n"
      ],
      "metadata": {
        "id": "-KgmPDc-10lg"
      }
    },
    {
      "cell_type": "code",
      "source": [
        "print(\"captura tu nombre completo\")\n",
        "nom=(input(\"captura tu nombre\"))\n",
        "ap=(input(\"captura tu apellido paterno\"))\n",
        "apm=(input(\"captura tu  apellido materno\"))\n",
        "print(nom,ap,apm)"
      ],
      "metadata": {
        "colab": {
          "base_uri": "https://localhost:8080/"
        },
        "id": "ae_ZwpUp2bo7",
        "outputId": "92aeb331-2b32-4d7d-b39d-78ba1af307d5"
      },
      "execution_count": 6,
      "outputs": [
        {
          "output_type": "stream",
          "name": "stdout",
          "text": [
            "captura tu nombre completo\n",
            "captura tu nombreluna\n",
            "captura tu apellido paternomelendez\n",
            "captura tu  apellido maternoespindola\n",
            "luna melendez espindola\n"
          ]
        }
      ]
    }
  ]
}